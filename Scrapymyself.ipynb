{
 "cells": [
  {
   "cell_type": "code",
   "execution_count": 2,
   "metadata": {},
   "outputs": [],
   "source": [
    "import requests\n",
    "from bs4 import BeautifulSoup\n",
    "\n",
    "res = requests.get('https://janan.live/')\n",
    "mypage = BeautifulSoup(res.text, 'lxml')"
   ]
  },
  {
   "cell_type": "code",
   "execution_count": 13,
   "metadata": {},
   "outputs": [
    {
     "name": "stdout",
     "output_type": "stream",
     "text": [
      "<title>Janan Zhu - Make things happen</title>\n",
      "Janan Zhu - Make things happen\n",
      "Janan Zhu - Make things happen\n"
     ]
    }
   ],
   "source": [
    "tag = mypage.title\n",
    "# print(mypage.text)   # the html in text format\n",
    "print(tag)\n",
    "print(tag.text)\n",
    "print(tag.string)"
   ]
  },
  {
   "cell_type": "code",
   "execution_count": 21,
   "metadata": {},
   "outputs": [
    {
     "name": "stdout",
     "output_type": "stream",
     "text": [
      "<p>Make things happen.</p>\n",
      "Make things happen.\n"
     ]
    }
   ],
   "source": [
    "tag = mypage.find(\"p\")\n",
    "# tags = mypage.find_all(\"p\")\n",
    "tags = mypage.find_all(\"p\")[0]\n",
    "print(tag)\n",
    "print(tags.text)"
   ]
  },
  {
   "cell_type": "code",
   "execution_count": 34,
   "metadata": {},
   "outputs": [
    {
     "name": "stdout",
     "output_type": "stream",
     "text": [
      "[<span style=\"color:#73a4f7\">Twitter</span>]\n"
     ]
    }
   ],
   "source": [
    "atag = mypage.find_all(\"a\")[-1]\n",
    "print(atag.find_all(\"span\"))"
   ]
  }
 ],
 "metadata": {
  "kernelspec": {
   "display_name": "Python 3.10.6 64-bit",
   "language": "python",
   "name": "python3"
  },
  "language_info": {
   "codemirror_mode": {
    "name": "ipython",
    "version": 3
   },
   "file_extension": ".py",
   "mimetype": "text/x-python",
   "name": "python",
   "nbconvert_exporter": "python",
   "pygments_lexer": "ipython3",
   "version": "3.10.6"
  },
  "orig_nbformat": 4,
  "vscode": {
   "interpreter": {
    "hash": "fe931f02a05a30dc5282ea578f0fe9d42bb2e5055b2d7c6912bf53e8957feeb5"
   }
  }
 },
 "nbformat": 4,
 "nbformat_minor": 2
}
