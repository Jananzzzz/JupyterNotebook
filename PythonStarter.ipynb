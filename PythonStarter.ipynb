{
 "cells": [
  {
   "cell_type": "markdown",
   "id": "61ec523c",
   "metadata": {},
   "source": [
    "<h1 style=\"font:6rem;color:blue;\">My Jupyter Notebook</h1>"
   ]
  },
  {
   "cell_type": "markdown",
   "id": "04a5eeba",
   "metadata": {},
   "source": [
    "# Python: A Beginner's View"
   ]
  },
  {
   "cell_type": "markdown",
   "id": "22dc6415",
   "metadata": {},
   "source": [
    "<img src = \"https://www.notion.so/image/https%3A%2F%2Fs3-us-west-2.amazonaws.com%2Fsecure.notion-static.com%2Fb6c3f274-e83c-4953-8618-0bbd8a5b1873%2FUntitled.jpeg?table=block&id=9b3b52f4-ef42-4923-9dec-9a5e6f0936cb&cache=v2\" width = 50%>"
   ]
  },
  {
   "cell_type": "markdown",
   "id": "378f9c73",
   "metadata": {},
   "source": [
    "## a simple greeting"
   ]
  },
  {
   "cell_type": "code",
   "execution_count": 7,
   "id": "bfa1d737",
   "metadata": {
    "scrolled": false
   },
   "outputs": [
    {
     "name": "stdout",
     "output_type": "stream",
     "text": [
      "what's your name?Janan\n",
      "hello, Janan\n"
     ]
    }
   ],
   "source": [
    "person = input(\"what's your name?\")\n",
    "message = \"hello, {}\" .format(person)\n",
    "print(message)"
   ]
  },
  {
   "cell_type": "markdown",
   "id": "1f783148",
   "metadata": {},
   "source": [
    "## multiple string"
   ]
  },
  {
   "cell_type": "code",
   "execution_count": 8,
   "id": "48466ac7",
   "metadata": {},
   "outputs": [
    {
     "name": "stdout",
     "output_type": "stream",
     "text": [
      "once upon a time\n",
      "there lives a bear\n",
      "who  loves pizza\n",
      "52\n"
     ]
    }
   ],
   "source": [
    "string = \"\"\"once upon a time\n",
    "there lives a bear\n",
    "who  loves pizza\"\"\"\n",
    "print(string)\n",
    "print(len(string))"
   ]
  },
  {
   "cell_type": "code",
   "execution_count": null,
   "id": "bbdb16dc",
   "metadata": {},
   "outputs": [],
   "source": []
  }
 ],
 "metadata": {
  "kernelspec": {
   "display_name": "Python 3 (ipykernel)",
   "language": "python",
   "name": "python3"
  },
  "language_info": {
   "codemirror_mode": {
    "name": "ipython",
    "version": 3
   },
   "file_extension": ".py",
   "mimetype": "text/x-python",
   "name": "python",
   "nbconvert_exporter": "python",
   "pygments_lexer": "ipython3",
   "version": "3.9.12"
  }
 },
 "nbformat": 4,
 "nbformat_minor": 5
}
